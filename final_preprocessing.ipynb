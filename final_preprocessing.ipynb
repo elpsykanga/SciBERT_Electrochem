{
 "cells": [
  {
   "cell_type": "code",
   "execution_count": 2,
   "metadata": {},
   "outputs": [
    {
     "name": "stderr",
     "output_type": "stream",
     "text": [
      "C:\\Users\\c23122695\\AppData\\Local\\Temp\\ipykernel_22872\\3966859017.py:33: SettingWithCopyWarning: \n",
      "A value is trying to be set on a copy of a slice from a DataFrame.\n",
      "Try using .loc[row_indexer,col_indexer] = value instead\n",
      "\n",
      "See the caveats in the documentation: https://pandas.pydata.org/pandas-docs/stable/user_guide/indexing.html#returning-a-view-versus-a-copy\n",
      "  text_df[\"pos_1\"]=text_df[\"pos_1\"].astype(int)\n",
      "C:\\Users\\c23122695\\AppData\\Local\\Temp\\ipykernel_22872\\3966859017.py:34: SettingWithCopyWarning: \n",
      "A value is trying to be set on a copy of a slice from a DataFrame.\n",
      "Try using .loc[row_indexer,col_indexer] = value instead\n",
      "\n",
      "See the caveats in the documentation: https://pandas.pydata.org/pandas-docs/stable/user_guide/indexing.html#returning-a-view-versus-a-copy\n",
      "  text_df[\"pos_2\"]=text_df[\"pos_2\"].astype(int)\n",
      "C:\\Users\\c23122695\\AppData\\Local\\Temp\\ipykernel_22872\\3966859017.py:35: SettingWithCopyWarning: \n",
      "A value is trying to be set on a copy of a slice from a DataFrame.\n",
      "Try using .loc[row_indexer,col_indexer] = value instead\n",
      "\n",
      "See the caveats in the documentation: https://pandas.pydata.org/pandas-docs/stable/user_guide/indexing.html#returning-a-view-versus-a-copy\n",
      "  text_df[\"doi\"]=text_df[\"doi\"].apply(lambda x: x.replace(\"_\",\"/\"))\n",
      "C:\\Users\\c23122695\\AppData\\Local\\Temp\\ipykernel_22872\\3966859017.py:36: SettingWithCopyWarning: \n",
      "A value is trying to be set on a copy of a slice from a DataFrame.\n",
      "Try using .loc[row_indexer,col_indexer] = value instead\n",
      "\n",
      "See the caveats in the documentation: https://pandas.pydata.org/pandas-docs/stable/user_guide/indexing.html#returning-a-view-versus-a-copy\n",
      "  text_df[\"entity\"]=text_df.apply(entity_finder,axis=1)\n"
     ]
    }
   ],
   "source": [
    "import pandas as pd\n",
    "import numpy as np\n",
    "import re\n",
    "\n",
    "text_extract=pd.read_csv(\"training_dataset.csv\")\n",
    "\n",
    "def doi_finder(text):\n",
    "\n",
    "    d=re.findall(r\"(?<=Doi:).*\",text,re.IGNORECASE)\n",
    "    if len(d)==0:\n",
    "        doi=None\n",
    "    else:\n",
    "        doi=d[0]\n",
    "\n",
    "    text_full=re.sub(r\"\\nD..:.*\",\"\",text,re.IGNORECASE)\n",
    "    return doi, text_full\n",
    "\n",
    "def entity_finder(row):\n",
    "    text=row[\"data\"]\n",
    "    pos_1=row[\"pos_1\"]\n",
    "    pos_2=row[\"pos_2\"]\n",
    "    entity=text[pos_1:pos_2]\n",
    "    return entity\n",
    "\n",
    "out=text_extract[\"data\"].apply(doi_finder)\n",
    "doi=[i[0] for i in out]\n",
    "text=[i[1] for i in out]\n",
    "text_extract[\"doi\"]=doi\n",
    "text_extract[\"data\"]=text\n",
    "text_extract[\"entity_label\"]=text_extract[\"entity\"]\n",
    "text_extract.drop(\"entity\",axis=1,inplace=True)\n",
    "text_df=text_extract.dropna()\n",
    "text_df[\"pos_1\"]=text_df[\"pos_1\"].astype(int)\n",
    "text_df[\"pos_2\"]=text_df[\"pos_2\"].astype(int)\n",
    "text_df[\"doi\"]=text_df[\"doi\"].apply(lambda x: x.replace(\"_\",\"/\"))\n",
    "text_df[\"entity\"]=text_df.apply(entity_finder,axis=1)"
   ]
  },
  {
   "cell_type": "code",
   "execution_count": 8,
   "metadata": {},
   "outputs": [],
   "source": [
    "coarse_labels=pd.read_csv(\"label_config.csv\")\n",
    "label_dict={}\n",
    "for name in coarse_labels.columns:\n",
    "    for fine_grain in coarse_labels[name]:\n",
    "        label_dict[fine_grain]=name\n",
    "popper=list(label_dict.keys())[30]\n",
    "label_dict.pop(popper)\n",
    "\n",
    "def convert(fine_label):\n",
    "    if fine_label in label_dict.keys():\n",
    "        data=label_dict[fine_label]\n",
    "    else:\n",
    "        data=None\n",
    "    return data\n",
    "\n",
    "df=text_df.copy()\n",
    "df[\"entity_label\"]=df[\"entity_label\"].apply(convert)"
   ]
  },
  {
   "cell_type": "code",
   "execution_count": 9,
   "metadata": {},
   "outputs": [],
   "source": [
    "from nltk import sent_tokenize\n",
    "def pos_adjustment(row):\n",
    "    sample=row\n",
    "    exm_data=sample[\"data\"]\n",
    "    pos1_=sample[\"pos_1\"]\n",
    "    pos2_=sample[\"pos_2\"]\n",
    "    get_len=re.findall(r\"\\w{3,}:\",exm_data)\n",
    "    tot_len=np.sum([len(i) for i in get_len])\n",
    "    pos1=pos1_-tot_len\n",
    "    pos2=pos2_-tot_len\n",
    "    return pos1, pos2\n",
    "df[[\"pos_1\",\"pos_2\"]]=df.apply(pos_adjustment,axis=1,result_type=\"expand\")\n",
    "df[\"data\"]=df[\"data\"].apply(lambda x:re.sub(r\"\\w{3,}:\",\"\",x))\n"
   ]
  },
  {
   "cell_type": "code",
   "execution_count": 10,
   "metadata": {},
   "outputs": [
    {
     "name": "stdout",
     "output_type": "stream",
     "text": [
      "Sulfur (S)-modified Cu electrodes were reported to selectively reduce CO2 into formic acid and fully quench the original CO2 production on clean Cu surfaces, yet the actual mechanism is still unsolved.  Sulfur (S)-modified Cu electrodes\n",
      "Cu nanocubes of similar to 70 nm in edge length are synthesized with {100} facets preferentially exposed on the surface.  Cu nanocubes of similar to 70 nm in edge length are synthesized with {100} facets preferentially exposed on the surface\n",
      "The origin of the synergistic effect and the nature of the active phase are not well understood, thus hindering optimization efforts.  The origin of the synergistic effect and the nature of the active phase\n",
      "A carbon-dots-based SAC margined with unique CuN2O2 sites was synthesized for the first time.  A carbon-dots-based SAC margined with unique CuN2O2 sites\n",
      "Gold-in-copper at low *CO coverage enables efficient electromethanation of CO2\n",
      "The renewable-electricity-powered CO2 electroreduction reaction provides a promising means to store intermittent renewable energy in the form of valuable chemicals and dispatchable fuels. methane \n",
      "Entrapment of a pyridine derivative within a copper-palladium  a bifunctional catalyst for electrochemical reduction of CO2 to alcohols with excellent selectivity and reusability\n",
      "A novel bifunctional catalyst, [PYD]@Cu-Pd composite, was synthesized for the first time and used as a cathode for electrochemical reduction of CO2. alloy\n",
      "Porous dendritic  an electrocatalyst for highly selective CO2 reduction to formate in water/ionic liquid electrolyte\n",
      "Copper is currently extensively studied because it provides promising electrodes for carbon dioxide electroreduction. copper\n",
      "An MOF-derived copper@nitrogen-doped carbon  the synergistic effects of N-types and copper on selective CO2 electroreduction\n",
      "The development of Cu-based complex electrocatalysts can lead to the facile realization of high activity and selectivity for reducing CO2 to multi-carbon hydrocarbons; exploring the synergistic effect between Cu and other materials may help in designing highly efficient catalysts.  copper@nitrogen-doped carbon composite\n",
      "Cu2O modified with a Ni overlayer with a thickness of similar to 700 nm resulted in the highest formate faradaic efficiency of 18%, and Cu2O resulted in highest CO faradaic efficiency of 7.9%. . Cu2O modified with a Ni overlayer\n",
      "The electrocatalyst also produces similar to 9 times more current density than previous studies using Ni-Cu2O electrocatalysts for the OER. The enhanced faradaic efficiency for formate is attributed to the synergistic effect between Ni and Cu2O due to maximized amounts of exposed bimetallic sites that facilitate CO2 reduction. \n",
      "These findings mark a step ahead towards understanding structure-property relationships in bimetallic catalysts for the CO2RR and their rational tuning to increase selectivity towards target products, especially alcohols. the combination of electronic and tandem effects accounts for such selectivity. \n",
      "30%.  30%\n",
      "CuZnAl-Oxide Nanopyramidal Mesoporous Materials for the Electrocatalytic CO2 Reduction to  Tuning of H-2/CO Ratio\n",
      "Inspired by the knowledge of the thermocatalytic CO2 reduction process, novel nanocrystalline CuZnAl-oxide based catalysts with pyramidal mesoporous structures are here proposed for the CO2 electrochemical reduction under ambient conditions. Syngas\n",
      "Electrocatalytic CO2 Reduction to Ethylene over CeO2-Supported Cu  Effect of Exposed Facets of CeO2\n",
      "Fossil fuels are expected to be the major source of energy for the next few decades. CeO2-Supported Cu Nanoparticles\n",
      "Selectivities up to 70% for C->= 2 products are observed for more than 40 h without significant change in the surface morphology. Mechanistic studies reveal several roles for the organic additive, including: the formation of cube-like nanostructures by corrosion of the copper surface, the stabilization of these nanostructures during electrocatalysis by formation of a protective organic layer, and the promotion of C->= 2 products.\n",
      "Electroreduction of CO2 on Single-Site Copper-Nitrogen-Doped Carbon  Selective Formation of Ethanol and Reversible Restructuration of the Metal Sites\n",
      "It is generally believed that CO2 electroreduction to multi-carbon products such as ethanol or ethylene may be catalyzed with significant yield only on metallic copper surfaces, implying large ensembles of copper atoms.  Copper-Nitrogen-Doped Carbon Material\n",
      "This material achieves aqueous CO2 electroreduction to ethanol at a Faradaic yield of 55 % under optimized conditions ( 0.1 m CsHCO3,  -1.2 V vs. RHE and gas-phase recycling set up), as well as CO electroreduction to C-2-products (ethanol and ethylene) with a Faradaic yield of 80 %. 55 % under optimized conditions (electrolyte: 0.1 m CsHCO3, potential: -1.2 V vs. RHE \n",
      "The enhancement in CO2ER activity is mainly attributed to the synergism of Cu-0-Cu+  Cu-0 activates CO2 and facilitates the following electron transfers; Cu+ strengthens *CO adsorption to further boost C-C coupling. The enhancement in CO2ER activity is mainly attributed to the synergism of Cu-0-Cu+ pairs\n",
      "Thus, the Cu/ICTF demonstrated higher selectivity (35 %) for the electroreduction of CO2 to ethylene with larger partial current density of ethylene (4.14 mA cm(-2)) over the unmodified neutral CTF stabilized Cu NPs (Cu/CTF) with 29 % Faradaic efficiency (FE) of ethylene and current density of 3.69 mA cm(-2).  The imidazolium groups in the cationic ICTF not only can enhance CO2 capture capacity and lower the energetic barrier to activate CO2, but also the in situ formed N-heterocyclic carbenes (NHC) could stabilize Cu NPs to prevent their deactivation. \n",
      "The enhancement in ethylene formation is presumably attributed to the formation of grain boundaries, which may serve as active sites.  The enhancement in ethylene formation is presumably attributed to the formation of grain boundaries,\n",
      "Cu/Cu2O Electrodes and CO2 Reduction to Formic  Effects of Organic Additives on Surface Morphology and Activity\n",
      "Copper/copper oxide (Cu/Cu2O) electrodes are known to display interesting electrocatalytic performances for the reduction of CO2, and thus, deserve further investigation for optimization.  Formic Acid\n",
      "Aligned carbon nanotube/copper  a new electrocatalyst for CO2 reduction to hydrocarbons\n",
      "We controlled the morphologies of copper (Cu) nanostructure on aligned carbon nanotube (CNT) sheets, influencing the efficiency of the electrocatalytic reduction of CO2. Aligned carbon nanotube/copper sheets\n",
      "The enhanced selectivity of the Cu/OLC catalyst towards the C2H4 production is most likely related to the enhanced electrocatalytic activity of the OLC support towards the CO2 electroreduction to CO. Higher CO surface concentration from CO2 electroreduction on the OLC support, rather than a greater number of available sites for CO dimerization, likely originated this behavior. Such a configuration enables the outer layer to act as a filter that protects the Cu surface from adsorption of undesirable species, enhances its electrocatalytic performance, and improves its viability in CO2 electroreduction reaction. \n",
      "In this work, a series of CuZnO/CNT catalysts with intimate Cu and Zn contact and various Cu loadings are prepared. A rational catalyst design strategy for further improvement of the ZnO/CNT catalyst is to dope with copper to strengthen the binding energy of the CO intermediate, which could improve the activity. \n",
      "The product of CO2 electro-reduction was identified, using a rotating ring disc electrode (RRDE) system, to be primarily formate. C3N4/(Co(OH)(2)/Cu(OH)(2) showed superior performance with electrocatalytic activity more than three times of C3N4/(Co/Co(OH)(2). \n",
      "By sputter coating a thin layer of Au on the Cu nanowires, the Faradaic efficiency (FE) of CO can exceed 30%. The Cu nanostructured electrode shows much higher current density than polycrystalline Cu. \n",
      "This catalyst exhibits high C2H4 partial current density and production rate at a low overpotential benefiting from the stepped surface and the modified electronic structure by Cu vacancies.  This catalyst exhibits high C2H4 partial current density and production rate at a low overpotential benefiting from the stepped surface and the modified electronic structure by Cu vacancies\n",
      "Here we report an amorphous urchin-like Cu@nanosilica hybrid synthesized by electrostatic coupling Si polyanions with Cu salt in hydrothermal processes.  amorphous Cu with abundant low-coordinated atoms holds greater promise for this conversion yet remains relatively underexplored. Here we report an amorphous urchin-like Cu@nanosilica hybrid\n",
      "The insights gained through this work may shed light in a foundation for designing efficient catalysts for electrochemical reduction of CO2. controllable size and composition for the bimetallic nanoparticles are critical to the CO2 reduction activity enhancement and high CO Faradaic efficiency. \n",
      "This study serves as a good starting point to tune the energetics of the intermediate binding to achieve even higher selectivity and activity for core shell structured catalysts. The geometric effects dominantly account for the synergistic effect of CO product and control the surface activity to hydrocarbons. \n",
      "The modification of Cu2O with Sn and In further enhanced the current efficiency (CE) for CO (ca.  The modification of Cu2O with Sn and In\n",
      "The experimental results are validated by 3D resolved continuum simulations, which show increased flux of higher-order products with the added CO flux from NiNC. The enhancements are attributed to the increased local CO availability near the copper surface via effective CO2 to CO conversion on neighboring NiNC. \n",
      "These effects significantly promote the C-C coupling reactions over NCDs/Cu/CuO composite catalysts. On one hand, NCDs reduce the electron transfer resistance between Cu/CuO particles, increasing the overall electron transfer rate by 37%; on the other hand, NCDs with electron sink effect can increase the electron concentration on catalyst surface significantly. \n",
      "The CuO nanosheets are prone to in situ restructuring during CO2 reduction, forming abundant grain boundaries (GBs). The CuO nanosheets are prone to in situ restructuring during CO2 reduction, forming abundant grain boundaries (GBs). Stable Cu+/Cu-0 interfaces are derived from the low-coordinated Cu atoms in the reconstructed GB regions and act as highly active sites for CO2 reduction at low overpotentials.\n",
      "% predominantly present as oxidized Sn, while the formate-selective catalysts display an Sn content of approximate to 70 at. a surface Sn content of 13 at. % predominantly present as oxidized Sn\n",
      "% consisting of both metallic Sn-0 and Sn oxide species. an Sn content of approximate to 70 at. % consisting of both metallic Sn-0 and Sn oxide species\n",
      "It is found that Cu/Bi bi-metallic system is beneficial to lower the activate energy barrier of CO2 and shows a stronger adsorption capability for the CO2 . It is found that Cu/Bi bi-metallic system is beneficial to lower the activate energy barrier of CO2 and shows a stronger adsorption capability for the CO2 . (-) intermediate than that of reference Bi/Bi2O3@C without Cu species.\n",
      "84 % at -0.9 V vs. reversible hydrogen electrode (RHE)). 76. 84 % at -0.9 V vs. reversible hydrogen electrode (RHE)\n",
      "In this work, surface cavity effect on C2H4 formation was investigated using Cu2O  solid cubes, cavity cubes, and broken cubes, typically representing smooth surface, cavity surface, and rough surface. surface cavity effect on C2H4 formation was investigated using Cu2O cubes\n",
      "A conformal coating of similar to 5 nm of polytetrafluoroethylene significantly improves the catalytic ability of copper nanoneedles (similar to 7-fold electric field and similar to 40 K temperature enhancement at the tips compared with bare copper nanoneedles experimentally), resulting in an improved C-2 Faradaic efficiency of over 86% at a partial current density of more than 250 mA cm(-2) and a record-high C-2 turnover frequency of 11.5 +/- 0.3 s(-1) Cu site(-1).  A conformal coating of similar to 5 nm of polytetrafluoroethylene significantly improves the catalytic ability of copper nanoneedles \n",
      "Copper(ii) tetrakis(pentafluorophenyl) highly active copper-based molecular catalysts for electrochemical CO2 reduction\n",
      "\n",
      "We report a highly active copper-based catalyst for electrochemical CO2 reduction. Copper(ii) tetrakis(pentafluorophenyl)porphyrin\n",
      "Electrochemical carbon dioxide reduction on copper-zinc  ethanol and ethylene selectivity analysis\n",
      "\n",
      "The electrochemical conversion of CO2 to ethanol and ethylene is an environmentally and economically promising method for addressing global climate change in a carbon-neutral society. alloys\n"
     ]
    }
   ],
   "source": [
    "from nltk import sent_tokenize\n",
    "from nltk import word_tokenize\n",
    "label_tags={\n",
    "    \"method\": [\"B-method\", \"I-method\"],\n",
    "    \"material\": [\"B-material\", \"I-material\"],\n",
    "    \"product\": [\"B-product\", \"I-product\"],\n",
    "    \"Faradaicefficiency\": [\"B-Faradaicefficiency\", \"I-Faradaicefficiency\"]\n",
    "}\n",
    "\n",
    "def sentence_processor(text):\n",
    "    sample_row=text\n",
    "    sentence=None\n",
    "    entity_label=sample_row[\"entity_label\"]\n",
    "    sample_doi=sample_row[\"doi\"]\n",
    "    sample_text=sample_row[\"data\"]\n",
    "    entity=sample_row[\"entity\"]\n",
    "    pos_1=sample_row[\"pos_1\"]\n",
    "    pos_2=sample_row[\"pos_2\"]\n",
    "    tokenized_sentences=sent_tokenize(sample_text)\n",
    "    char_count=0\n",
    "    for i in tokenized_sentences:\n",
    "        sent_length=len(i)\n",
    "        if char_count<=pos_1<char_count+sent_length or char_count<=pos_2<char_count+sent_length:\n",
    "            sentence=i\n",
    "        char_count+=sent_length+1\n",
    "    if sentence!=None and entity not in sentence:\n",
    "        print(sentence, entity)\n",
    "        sentence=None\n",
    "\n",
    "    if sentence==None:\n",
    "        return {\"doi\":sample_doi,\"context\":None,\"entity\":entity,\"entity_label\":entity_label,\"original\":sample_text,\"position\":(pos_1,pos_2)}\n",
    "    else:\n",
    "        return {\"doi\":sample_doi,\"context\":sentence,\"entity\":entity,\"entity_label\":entity_label,\"original\":sample_text,\"position\":(pos_1,pos_2)}\n",
    "res=df.apply(sentence_processor,axis=1).to_list()\n",
    "dfx=pd.DataFrame.from_records(res)"
   ]
  },
  {
   "cell_type": "code",
   "execution_count": 11,
   "metadata": {},
   "outputs": [],
   "source": [
    "def fixit(data):\n",
    "    text=data[\"original\"]\n",
    "    entity=data[\"entity\"]\n",
    "    context=data[\"context\"]\n",
    "    sentence=None\n",
    "    if context==None:\n",
    "\n",
    "        token_sent=sent_tokenize(text)\n",
    "\n",
    "        for i in token_sent:\n",
    "            if entity in i:\n",
    "                sentence=i\n",
    "        return sentence\n",
    "    else:\n",
    "        return context\n",
    "\n",
    "dfx[\"context\"]=dfx.apply(fixit,axis=1)\n"
   ]
  },
  {
   "cell_type": "code",
   "execution_count": 12,
   "metadata": {},
   "outputs": [
    {
     "name": "stderr",
     "output_type": "stream",
     "text": [
      "C:\\Users\\c23122695\\AppData\\Local\\Temp\\ipykernel_22872\\559799822.py:79: SettingWithCopyWarning: \n",
      "A value is trying to be set on a copy of a slice from a DataFrame.\n",
      "Try using .loc[row_indexer,col_indexer] = value instead\n",
      "\n",
      "See the caveats in the documentation: https://pandas.pydata.org/pandas-docs/stable/user_guide/indexing.html#returning-a-view-versus-a-copy\n",
      "  dfz[[\"tokens\",\"ner_labels\"]]=dfz.apply(tokenizer,axis=1,result_type=\"expand\")\n",
      "C:\\Users\\c23122695\\AppData\\Local\\Temp\\ipykernel_22872\\559799822.py:79: SettingWithCopyWarning: \n",
      "A value is trying to be set on a copy of a slice from a DataFrame.\n",
      "Try using .loc[row_indexer,col_indexer] = value instead\n",
      "\n",
      "See the caveats in the documentation: https://pandas.pydata.org/pandas-docs/stable/user_guide/indexing.html#returning-a-view-versus-a-copy\n",
      "  dfz[[\"tokens\",\"ner_labels\"]]=dfz.apply(tokenizer,axis=1,result_type=\"expand\")\n"
     ]
    },
    {
     "data": {
      "text/plain": [
       "23"
      ]
     },
     "execution_count": 12,
     "metadata": {},
     "output_type": "execute_result"
    }
   ],
   "source": [
    "dfz=dfx.dropna()\n",
    "count=0\n",
    "dead_ent=[]\n",
    "\n",
    "def tokenizer(test):\n",
    "    test=test.copy()\n",
    "    entity=test[\"entity\"]\n",
    "    label=test[\"entity_label\"]\n",
    "    context=test[\"context\"]\n",
    "    global count\n",
    "    global dead_ent\n",
    "\n",
    "    entity.strip()\n",
    "    entity=entity.replace(\",\",\" \")\n",
    "    entity=re.sub(r'(?<!\\d)\\.(?!\\d)(?=\\s|$)',\" \", entity)\n",
    "    pattern=r\"FE(?=\\w{1,5})\"\n",
    "    entity=re.sub(pattern,\"FE \",entity)\n",
    "    entity=entity.replace(\"-\",\" \")\n",
    "    entity=entity.replace(\"(\",\" \")\n",
    "    entity=entity.replace(\")\",\" \")\n",
    "    entity=entity.replace(\"/\",\" \")\n",
    "\n",
    "    entity=entity.replace(\"@\",\" \")\n",
    "\n",
    "    entity=re.sub(r\"\\n\",\" \",entity)\n",
    "    entity=word_tokenize(entity)\n",
    "\n",
    "    context=context.strip()\n",
    "    context=context.replace(\",\",\" \")\n",
    "    context=re.sub(r'(?<!\\d)\\.(?!\\d)(?=\\s|$)',\" \", context)\n",
    "    pattern=r\"FE(?=\\w{1,5})\"\n",
    "    context=re.sub(pattern,\"FE \",context)\n",
    "    context=context.replace(\"-\",\" \")\n",
    "    context=context.replace(\"(\",\" \")\n",
    "    context=context.replace(\")\",\" \")\n",
    "    context=context.replace(\"/\",\" \")\n",
    "\n",
    "    context=context.replace(\"@\",\" \")\n",
    "    context=re.sub(r\"\\n\",\" \",context)\n",
    "    context=word_tokenize(context)\n",
    "    vector=[\"O\"]*len(context)\n",
    "\n",
    "    for i in range(len(context)):\n",
    "        if context[i:i+len(entity)]==entity:\n",
    "            for j in range(len(entity)):\n",
    "                vector[i+j]=1\n",
    "            break\n",
    "    oops=0\n",
    "    for i in range(len(vector)):\n",
    "        if vector[i]==1 and oops==0:\n",
    "            vector[i]=label_tags[label][0]\n",
    "            oops+=1\n",
    "        elif vector[i]==1 and oops==1:\n",
    "            vector[i]=label_tags[label][1]\n",
    "    if all(i==\"O\" for i in vector):\n",
    "        if entity[0]==\"CO\" and len(entity)==1:\n",
    "            entity[0]=\"CO2\"\n",
    "            vector=[\"O\"]*len(context)\n",
    "\n",
    "            for i in range(len(context)):\n",
    "                if context[i:i+len(entity)]==entity:\n",
    "                    for j in range(len(entity)):\n",
    "                        vector[i+j]=1\n",
    "                    break\n",
    "            oops=0\n",
    "            for i in range(len(vector)):\n",
    "                if vector[i]==1 and oops==0:\n",
    "                    vector[i]=label_tags[label][0]\n",
    "                    oops+=1\n",
    "                elif vector[i]==1 and oops==1:\n",
    "                    vector[i]=label_tags[label][1]\n",
    "    if all(i==\"O\" for i in vector):\n",
    "        count+=1\n",
    "        dead_ent.append((context,entity))\n",
    "\n",
    "    vector.insert(0,'[CLS]')\n",
    "    vector.append('[SEP]')\n",
    "    return context,vector\n",
    "dfz[[\"tokens\",\"ner_labels\"]]=dfz.apply(tokenizer,axis=1,result_type=\"expand\")\n",
    "count\n"
   ]
  },
  {
   "cell_type": "code",
   "execution_count": 13,
   "metadata": {},
   "outputs": [
    {
     "name": "stderr",
     "output_type": "stream",
     "text": [
      "C:\\Users\\c23122695\\AppData\\Local\\Temp\\ipykernel_22872\\1535586095.py:15: SettingWithCopyWarning: \n",
      "A value is trying to be set on a copy of a slice from a DataFrame.\n",
      "Try using .loc[row_indexer,col_indexer] = value instead\n",
      "\n",
      "See the caveats in the documentation: https://pandas.pydata.org/pandas-docs/stable/user_guide/indexing.html#returning-a-view-versus-a-copy\n",
      "  dfz[\"ner_tokens\"]=dfz[\"ner_labels\"].apply(ner_numerical)\n"
     ]
    }
   ],
   "source": [
    "lab=[]\n",
    "for i in list(label_tags.values()):\n",
    "    for j in i:\n",
    "        lab.append(j)\n",
    "\n",
    "lab.insert(0,\"O\")\n",
    "\n",
    "ner_tags={j:i for i,j in enumerate(lab)}\n",
    "def ner_numerical(tokens):\n",
    "    sample=tokens[1:-1]\n",
    "    num_ner=[]\n",
    "    for i in sample:\n",
    "        num_ner.append(ner_tags[i])\n",
    "    return num_ner\n",
    "dfz[\"ner_tokens\"]=dfz[\"ner_labels\"].apply(ner_numerical)"
   ]
  },
  {
   "cell_type": "code",
   "execution_count": 14,
   "metadata": {},
   "outputs": [],
   "source": [
    "df_=dfz.loc[(dfz[\"ner_tokens\"].apply(lambda x: not all(i==0 for i in x))),:]\n",
    "df_combined=df_.groupby([\"context\"]).agg({\"ner_tokens\":lambda x:list(x),\"entity_label\":lambda x:list(x),\"tokens\":lambda x:list(x)}).reset_index()\n",
    "\n",
    "def join_token(tokens):\n",
    "    if len(tokens)>1:\n",
    "        grouped=[0]*len(tokens[0])\n",
    "        for ner in tokens:\n",
    "            for i in range(len(ner)):\n",
    "                if ner[i]!=0:\n",
    "                    grouped[i]=ner[i]\n",
    "        return grouped\n",
    "    else:\n",
    "        token=tokens[0]\n",
    "        return token\n",
    "\n",
    "df_combined[\"ner_tokens\"]=df_combined[\"ner_tokens\"].apply(join_token)\n",
    "df_combined[\"tokens\"]=df_combined[\"tokens\"].apply(lambda x: x[0])"
   ]
  },
  {
   "cell_type": "code",
   "execution_count": 15,
   "metadata": {},
   "outputs": [],
   "source": [
    "from sklearn.preprocessing import MultiLabelBinarizer\n",
    "mlb=MultiLabelBinarizer()\n",
    "\n",
    "corpus=df_combined[['tokens','ner_tokens',\"entity_label\"]]\n",
    "corpus.reset_index(inplace=True)\n",
    "corpus.rename(columns={\"index\":\"id\"},inplace=True)\n",
    "corpus.set_index(\"id\",inplace=True)\n",
    "\n",
    "\n",
    "encoded=mlb.fit_transform(corpus[\"entity_label\"])\n",
    "# corpus.drop(\"entity_label\",inplace=True)\n",
    "encoded=pd.DataFrame(encoded,columns=mlb.classes_)\n",
    "full_corpus=pd.concat([corpus,encoded],axis=1)\n"
   ]
  },
  {
   "cell_type": "code",
   "execution_count": 16,
   "metadata": {},
   "outputs": [
    {
     "name": "stderr",
     "output_type": "stream",
     "text": [
      "c:\\Users\\c23122695\\AppData\\Local\\anaconda3\\envs\\Thesis\\Lib\\site-packages\\tqdm\\auto.py:21: TqdmWarning: IProgress not found. Please update jupyter and ipywidgets. See https://ipywidgets.readthedocs.io/en/stable/user_install.html\n",
      "  from .autonotebook import tqdm as notebook_tqdm\n"
     ]
    }
   ],
   "source": [
    "from datasets import Dataset, DatasetDict\n",
    "input_text=full_corpus[[\"tokens\",\"ner_tokens\"]]\n",
    "def to_proc_data(data):\n",
    "    out=Dataset.from_pandas(data,preserve_index=False)\n",
    "    traintestvalid=out.train_test_split(test_size=0.2)\n",
    "    test_valid=traintestvalid[\"test\"].train_test_split(test_size=0.5)\n",
    "    full_dataset=DatasetDict({\n",
    "        \"train\":traintestvalid[\"train\"],\n",
    "        \"test\":test_valid[\"test\"],\n",
    "        \"valid\":test_valid[\"train\"]\n",
    "    })\n",
    "    return full_dataset\n",
    "\n",
    "full_dataset=to_proc_data(input_text)\n"
   ]
  },
  {
   "cell_type": "code",
   "execution_count": 18,
   "metadata": {},
   "outputs": [
    {
     "name": "stderr",
     "output_type": "stream",
     "text": [
      "Saving the dataset (1/1 shards): 100%|██████████| 1518/1518 [00:00<00:00, 56226.30 examples/s]\n",
      "Saving the dataset (1/1 shards): 100%|██████████| 190/190 [00:00<00:00, 17279.22 examples/s]\n",
      "Saving the dataset (1/1 shards): 100%|██████████| 190/190 [00:00<00:00, 18999.57 examples/s]\n"
     ]
    }
   ],
   "source": [
    "# full_dataset.save_to_disk(\"revised_tags_2\")\n",
    "# input_text.to_csv(\"revised_tags_2.csv\",index=False)"
   ]
  },
  {
   "cell_type": "code",
   "execution_count": 180,
   "metadata": {},
   "outputs": [
    {
     "name": "stderr",
     "output_type": "stream",
     "text": [
      "c:\\Users\\c23122695\\AppData\\Local\\anaconda3\\envs\\Thesis\\Lib\\site-packages\\sklearn\\preprocessing\\_label.py:114: DataConversionWarning: A column-vector y was passed when a 1d array was expected. Please change the shape of y to (n_samples, ), for example using ravel().\n",
      "  y = column_or_1d(y, warn=True)\n"
     ]
    }
   ],
   "source": [
    "from imblearn.over_sampling import RandomOverSampler\n",
    "from sklearn.preprocessing import LabelEncoder\n",
    "\n",
    "balance=df_[[\"entity_label\",\"tokens\",\"ner_tokens\"]]\n",
    "encoder=LabelEncoder()\n",
    "oversample=RandomOverSampler(random_state=42)\n",
    "\n",
    "X=balance.loc[:,(balance.columns!=\"entity_label\")].values\n",
    "y=balance.loc[:,(balance.columns==\"entity_label\")].values\n",
    "\n",
    "y=encoder.fit_transform(y)\n",
    "X,y=oversample.fit_resample(X,y)\n",
    "\n",
    "\n",
    "egg=pd.DataFrame(X)\n",
    "nog=pd.DataFrame(y)\n",
    "inputdata=pd.concat([egg,nog],axis=1)\n",
    "inputdata.columns=['tokens', 'ner_tokens' ,'entity_label']\n",
    "inputdata.drop(\"entity_label\",axis=1,inplace=True)"
   ]
  },
  {
   "cell_type": "code",
   "execution_count": 184,
   "metadata": {},
   "outputs": [],
   "source": [
    "# unprocessed=to_proc_data(inputdata)\n",
    "# unprocessed.save_to_disk(\"unprocessed_tags\")"
   ]
  },
  {
   "cell_type": "code",
   "execution_count": 209,
   "metadata": {},
   "outputs": [
    {
     "data": {
      "text/plain": [
       "<Axes: xlabel='Coarse Grain Label', ylabel='Count'>"
      ]
     },
     "execution_count": 209,
     "metadata": {},
     "output_type": "execute_result"
    },
    {
     "data": {
      "image/png": "[encoded data removed]",
      "text/plain": [
       "<Figure size 640x480 with 1 Axes>"
      ]
     },
     "metadata": {},
     "output_type": "display_data"
    }
   ],
   "source": [
    "import matplotlib.pyplot as plt\n",
    "import seaborn as sns\n",
    "\n",
    "grouped_total=full_corpus.iloc[:,-4:].sum()\n",
    "grouped_total=pd.DataFrame(grouped_total)\n",
    "grouped_total.reset_index(inplace=True)\n",
    "grouped_total.columns=[\"Coarse Grain Label\",\"Count\"]\n",
    "\n",
    "fig, ax=plt.subplots()\n",
    "\n",
    "sns.barplot(grouped_total,x=\"Coarse Grain Label\",y=\"Count\",hue=\"Coarse Grain Label\",palette=\"husl\")"
   ]
  },
  {
   "cell_type": "code",
   "execution_count": 36,
   "metadata": {},
   "outputs": [
    {
     "name": "stderr",
     "output_type": "stream",
     "text": [
      "C:\\Users\\c23122695\\AppData\\Local\\Temp\\ipykernel_22872\\728049812.py:9: UserWarning: set_ticklabels() should only be used with a fixed number of ticks, i.e. after set_ticks() or using a FixedLocator.\n",
      "  ax.set_xticklabels(ax.get_xticklabels(), rotation=45,fontdict={\"fontsize\":7})\n"
     ]
    },
    {
     "data": {
      "image/png": "[encoded data removed]",
      "text/plain": [
       "<Figure size 640x480 with 1 Axes>"
      ]
     },
     "metadata": {},
     "output_type": "display_data"
    }
   ],
   "source": [
    "import matplotlib.pyplot as plt\n",
    "import seaborn as sns\n",
    "\n",
    "id2label={0: 'O',\n",
    "        1: 'B-method',\n",
    "        2: 'I-method',\n",
    "        3: 'B-material',\n",
    "        4: 'I-material',\n",
    "        5: 'B-product',\n",
    "        6: 'I-product',\n",
    "        7: 'B-Faradaicefficiency',\n",
    "        8: 'I-Faradaicefficiency'\n",
    "        }\n",
    "all_tokens=[]\n",
    "input_text[\"ner_tokens\"].apply(lambda x: all_tokens.extend(x))\n",
    "# all_tokens=[id2label[i] for i in all_tokens if i!=0]#\n",
    "\n",
    "labels, counts=np.unique(all_tokens,return_counts=True)\n",
    "fig, ax= plt.subplots()\n",
    "sns.barplot(x=labels,y=counts,hue=labels)\n",
    "plt.title('IOB Label Distribution')\n",
    "plt.ylabel('Count')\n",
    "plt.xlabel('IOB Labels')\n",
    "ax.set_xticklabels(ax.get_xticklabels(), rotation=45,fontdict={\"fontsize\":7})\n",
    "plt.show()"
   ]
  }
 ],
 "metadata": {
  "kernelspec": {
   "display_name": "Thesis",
   "language": "python",
   "name": "python3"
  },
  "language_info": {
   "codemirror_mode": {
    "name": "ipython",
    "version": 3
   },
   "file_extension": ".py",
   "mimetype": "text/x-python",
   "name": "python",
   "nbconvert_exporter": "python",
   "pygments_lexer": "ipython3",
   "version": "3.11.9"
  }
 },
 "nbformat": 4,
 "nbformat_minor": 2
}
